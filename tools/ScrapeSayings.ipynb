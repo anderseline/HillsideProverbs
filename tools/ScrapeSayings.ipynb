{
 "cells": [
  {
   "cell_type": "code",
   "execution_count": 1,
   "metadata": {},
   "outputs": [],
   "source": [
    "from requests_html import HTMLSession\n",
    "import random as rand\n",
    "import re\n",
    "import smtplib, ssl\n",
    "from email.mime.text import MIMEText\n",
    "from email.mime.multipart import MIMEMultipart\n",
    "from email.utils import formataddr"
   ]
  },
  {
   "cell_type": "code",
   "execution_count": 2,
   "metadata": {},
   "outputs": [
    {
     "data": {
      "text/plain": [
       "<Response [200]>"
      ]
     },
     "execution_count": 2,
     "metadata": {},
     "output_type": "execute_result"
    }
   ],
   "source": [
    "session = HTMLSession()\n",
    "url = 'https://en.wikipedia.org/wiki/List_of_proverbial_phrases'\n",
    "r = session.get(url)\n",
    "r"
   ]
  },
  {
   "cell_type": "code",
   "execution_count": 3,
   "metadata": {},
   "outputs": [],
   "source": [
    "# get master list of all sayings\n",
    "saying_lists = r.html.find('ul')[1:25]\n",
    "sayings = []\n",
    "for i in range(0, len(saying_lists)):\n",
    "    sub_sayings = saying_lists[i].find('li')\n",
    "    for s in sub_sayings:\n",
    "        sayings.append(s.text)"
   ]
  },
  {
   "cell_type": "code",
   "execution_count": 4,
   "metadata": {},
   "outputs": [],
   "source": [
    "# remove text in brackets\n",
    "cleaned_sayings = []\n",
    "for s in sayings:\n",
    "    cleaned_sayings.append(\n",
    "        re.sub('[\\[].*?[\\]]','',s)\n",
    "    )"
   ]
  },
  {
   "cell_type": "code",
   "execution_count": 5,
   "metadata": {},
   "outputs": [],
   "source": [
    "path = '..\\\\res\\\\sayings_list.txt'\n",
    "with open(path,'w') as f:\n",
    "    for s in cleaned_sayings:\n",
    "        f.write(s + '\\n') "
   ]
  },
  {
   "cell_type": "code",
   "execution_count": 20,
   "metadata": {},
   "outputs": [
    {
     "data": {
      "text/plain": [
       "'All is grist that comes to the mill'"
      ]
     },
     "execution_count": 20,
     "metadata": {},
     "output_type": "execute_result"
    }
   ],
   "source": [
    "path = '..\\\\res\\\\sayings_list.txt'\n",
    "f = open(path, 'r')\n",
    "lines = f.readlines()\n",
    "lim = len(lines)\n",
    "ind = rand.randrange(0, lim)\n",
    "sayings = []\n",
    "for l in lines:\n",
    "    sayings.append(l)\n",
    "sayings_cleaned = []\n",
    "for s in sayings:\n",
    "    sayings_cleaned.append(\n",
    "        s.replace('\\n', '')\n",
    "    )\n",
    "saying = sayings_cleaned[ind]\n",
    "saying"
   ]
  }
 ],
 "metadata": {
  "interpreter": {
   "hash": "4daf73df99b5d5ee04b9c4f6d0c928016b99f4a7167499c60f06ba788794ec50"
  },
  "kernelspec": {
   "display_name": "Python 3.9.1 64-bit",
   "language": "python",
   "name": "python3"
  },
  "language_info": {
   "codemirror_mode": {
    "name": "ipython",
    "version": 3
   },
   "file_extension": ".py",
   "mimetype": "text/x-python",
   "name": "python",
   "nbconvert_exporter": "python",
   "pygments_lexer": "ipython3",
   "version": "3.9.1"
  },
  "orig_nbformat": 4
 },
 "nbformat": 4,
 "nbformat_minor": 2
}
